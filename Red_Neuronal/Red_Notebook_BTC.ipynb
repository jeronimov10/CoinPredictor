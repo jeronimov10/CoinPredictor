{
 "cells": [
  {
   "cell_type": "code",
   "execution_count": 1,
   "id": "344f02af",
   "metadata": {},
   "outputs": [],
   "source": [
    "import numpy as np\n",
    "import matplotlib.pyplot as plt\n",
    "import pandas as pd\n",
    "\n",
    "import yfinance as yf\n",
    "\n",
    "from sklearn.preprocessing import MinMaxScaler\n",
    "from tensorflow.keras.models import Sequential\n",
    "from tensorflow.keras.layers import Dense,Dropout,GRU\n"
   ]
  },
  {
   "cell_type": "code",
   "execution_count": 2,
   "id": "97b18687",
   "metadata": {},
   "outputs": [],
   "source": [
    "\n",
    "ticker = yf.Ticker('BTC-USD')\n",
    "df = ticker.history(start = '2014-08-01', end = '2022-01-01')\n",
    "\n"
   ]
  },
  {
   "cell_type": "code",
   "execution_count": 3,
   "id": "98581899",
   "metadata": {},
   "outputs": [
    {
     "data": {
      "text/plain": [
       "(2563, 100, 1)"
      ]
     },
     "execution_count": 3,
     "metadata": {},
     "output_type": "execute_result"
    }
   ],
   "source": [
    "#Preparar los datos\n",
    "scaler = MinMaxScaler(feature_range=(0,1))\n",
    "scaled_data = scaler.fit_transform(df['Close'].values.reshape(-1,1))\n",
    "\n",
    "prediction_days = 100\n",
    "\n",
    "x_train = []\n",
    "y_train = []\n",
    "\n",
    "for x in range(prediction_days,len(scaled_data)):\n",
    "  x_train.append(scaled_data[x-prediction_days:x,0])\n",
    "  y_train.append(scaled_data[x,0])\n",
    "\n",
    "x_train,y_train = np.array(x_train),np.array(y_train)\n",
    "x_train = np.reshape(x_train,(x_train.shape[0],x_train.shape[1],1))\n",
    "\n",
    "x_train.shape"
   ]
  },
  {
   "cell_type": "code",
   "execution_count": 4,
   "id": "284ef290",
   "metadata": {},
   "outputs": [
    {
     "name": "stdout",
     "output_type": "stream",
     "text": [
      "Comenzando el entrenamiento...\n",
      "Epoch 1/25\n"
     ]
    },
    {
     "name": "stderr",
     "output_type": "stream",
     "text": [
      "c:\\Users\\jeron\\AppData\\Local\\Programs\\Python\\Python310\\lib\\site-packages\\keras\\src\\layers\\rnn\\rnn.py:199: UserWarning: Do not pass an `input_shape`/`input_dim` argument to a layer. When using Sequential models, prefer using an `Input(shape)` object as the first layer in the model instead.\n",
      "  super().__init__(**kwargs)\n"
     ]
    },
    {
     "name": "stdout",
     "output_type": "stream",
     "text": [
      "\u001b[1m81/81\u001b[0m \u001b[32m━━━━━━━━━━━━━━━━━━━━\u001b[0m\u001b[37m\u001b[0m \u001b[1m8s\u001b[0m 57ms/step - loss: 0.0063\n",
      "Epoch 2/25\n",
      "\u001b[1m81/81\u001b[0m \u001b[32m━━━━━━━━━━━━━━━━━━━━\u001b[0m\u001b[37m\u001b[0m \u001b[1m5s\u001b[0m 58ms/step - loss: 0.0012\n",
      "Epoch 3/25\n",
      "\u001b[1m81/81\u001b[0m \u001b[32m━━━━━━━━━━━━━━━━━━━━\u001b[0m\u001b[37m\u001b[0m \u001b[1m5s\u001b[0m 59ms/step - loss: 0.0011\n",
      "Epoch 4/25\n",
      "\u001b[1m81/81\u001b[0m \u001b[32m━━━━━━━━━━━━━━━━━━━━\u001b[0m\u001b[37m\u001b[0m \u001b[1m5s\u001b[0m 66ms/step - loss: 0.0010\n",
      "Epoch 5/25\n",
      "\u001b[1m81/81\u001b[0m \u001b[32m━━━━━━━━━━━━━━━━━━━━\u001b[0m\u001b[37m\u001b[0m \u001b[1m6s\u001b[0m 68ms/step - loss: 9.6549e-04\n",
      "Epoch 6/25\n",
      "\u001b[1m81/81\u001b[0m \u001b[32m━━━━━━━━━━━━━━━━━━━━\u001b[0m\u001b[37m\u001b[0m \u001b[1m6s\u001b[0m 70ms/step - loss: 8.8598e-04\n",
      "Epoch 7/25\n",
      "\u001b[1m81/81\u001b[0m \u001b[32m━━━━━━━━━━━━━━━━━━━━\u001b[0m\u001b[37m\u001b[0m \u001b[1m6s\u001b[0m 72ms/step - loss: 8.8445e-04\n",
      "Epoch 8/25\n",
      "\u001b[1m81/81\u001b[0m \u001b[32m━━━━━━━━━━━━━━━━━━━━\u001b[0m\u001b[37m\u001b[0m \u001b[1m6s\u001b[0m 72ms/step - loss: 9.1684e-04\n",
      "Epoch 9/25\n",
      "\u001b[1m81/81\u001b[0m \u001b[32m━━━━━━━━━━━━━━━━━━━━\u001b[0m\u001b[37m\u001b[0m \u001b[1m6s\u001b[0m 71ms/step - loss: 0.0017\n",
      "Epoch 10/25\n",
      "\u001b[1m81/81\u001b[0m \u001b[32m━━━━━━━━━━━━━━━━━━━━\u001b[0m\u001b[37m\u001b[0m \u001b[1m6s\u001b[0m 69ms/step - loss: 8.2844e-04\n",
      "Epoch 11/25\n",
      "\u001b[1m81/81\u001b[0m \u001b[32m━━━━━━━━━━━━━━━━━━━━\u001b[0m\u001b[37m\u001b[0m \u001b[1m6s\u001b[0m 68ms/step - loss: 6.7247e-04\n",
      "Epoch 12/25\n",
      "\u001b[1m81/81\u001b[0m \u001b[32m━━━━━━━━━━━━━━━━━━━━\u001b[0m\u001b[37m\u001b[0m \u001b[1m4s\u001b[0m 55ms/step - loss: 0.0012\n",
      "Epoch 13/25\n",
      "\u001b[1m81/81\u001b[0m \u001b[32m━━━━━━━━━━━━━━━━━━━━\u001b[0m\u001b[37m\u001b[0m \u001b[1m5s\u001b[0m 56ms/step - loss: 7.4061e-04\n",
      "Epoch 14/25\n",
      "\u001b[1m81/81\u001b[0m \u001b[32m━━━━━━━━━━━━━━━━━━━━\u001b[0m\u001b[37m\u001b[0m \u001b[1m5s\u001b[0m 55ms/step - loss: 7.3181e-04\n",
      "Epoch 15/25\n",
      "\u001b[1m81/81\u001b[0m \u001b[32m━━━━━━━━━━━━━━━━━━━━\u001b[0m\u001b[37m\u001b[0m \u001b[1m4s\u001b[0m 55ms/step - loss: 7.7872e-04\n",
      "Epoch 16/25\n",
      "\u001b[1m81/81\u001b[0m \u001b[32m━━━━━━━━━━━━━━━━━━━━\u001b[0m\u001b[37m\u001b[0m \u001b[1m5s\u001b[0m 55ms/step - loss: 6.9718e-04\n",
      "Epoch 17/25\n",
      "\u001b[1m81/81\u001b[0m \u001b[32m━━━━━━━━━━━━━━━━━━━━\u001b[0m\u001b[37m\u001b[0m \u001b[1m5s\u001b[0m 56ms/step - loss: 6.4492e-04\n",
      "Epoch 18/25\n",
      "\u001b[1m81/81\u001b[0m \u001b[32m━━━━━━━━━━━━━━━━━━━━\u001b[0m\u001b[37m\u001b[0m \u001b[1m5s\u001b[0m 60ms/step - loss: 6.0298e-04\n",
      "Epoch 19/25\n",
      "\u001b[1m81/81\u001b[0m \u001b[32m━━━━━━━━━━━━━━━━━━━━\u001b[0m\u001b[37m\u001b[0m \u001b[1m5s\u001b[0m 59ms/step - loss: 6.6523e-04\n",
      "Epoch 20/25\n",
      "\u001b[1m81/81\u001b[0m \u001b[32m━━━━━━━━━━━━━━━━━━━━\u001b[0m\u001b[37m\u001b[0m \u001b[1m5s\u001b[0m 58ms/step - loss: 7.3059e-04\n",
      "Epoch 21/25\n",
      "\u001b[1m81/81\u001b[0m \u001b[32m━━━━━━━━━━━━━━━━━━━━\u001b[0m\u001b[37m\u001b[0m \u001b[1m4s\u001b[0m 55ms/step - loss: 6.6488e-04\n",
      "Epoch 22/25\n",
      "\u001b[1m81/81\u001b[0m \u001b[32m━━━━━━━━━━━━━━━━━━━━\u001b[0m\u001b[37m\u001b[0m \u001b[1m4s\u001b[0m 54ms/step - loss: 7.6948e-04\n",
      "Epoch 23/25\n",
      "\u001b[1m81/81\u001b[0m \u001b[32m━━━━━━━━━━━━━━━━━━━━\u001b[0m\u001b[37m\u001b[0m \u001b[1m4s\u001b[0m 55ms/step - loss: 5.5793e-04\n",
      "Epoch 24/25\n",
      "\u001b[1m81/81\u001b[0m \u001b[32m━━━━━━━━━━━━━━━━━━━━\u001b[0m\u001b[37m\u001b[0m \u001b[1m4s\u001b[0m 54ms/step - loss: 6.2555e-04\n",
      "Epoch 25/25\n",
      "\u001b[1m81/81\u001b[0m \u001b[32m━━━━━━━━━━━━━━━━━━━━\u001b[0m\u001b[37m\u001b[0m \u001b[1m5s\u001b[0m 56ms/step - loss: 7.2339e-04\n",
      "Modelo entrenado exitosamente\n"
     ]
    }
   ],
   "source": [
    "#Construir el modelo\n",
    "\n",
    "print('Comenzando el entrenamiento...')\n",
    "\n",
    "modelo = Sequential()\n",
    "\n",
    "#Capa 1\n",
    "modelo.add(GRU(units=50, return_sequences = True, input_shape = (x_train.shape[1],1)))\n",
    "modelo.add(Dropout(0.2))\n",
    "\n",
    "#Capa 2\n",
    "modelo.add(GRU(units=50, return_sequences = True))\n",
    "modelo.add(Dropout(0.2))\n",
    "\n",
    "#Capa 3\n",
    "modelo.add(GRU(units=50))\n",
    "modelo.add(Dropout(0.1))\n",
    "\n",
    "#Capa 4\n",
    "modelo.add(Dense(units = 1))\n",
    "\n",
    "\n",
    "\n",
    "modelo.compile(optimizer='adam', loss='mean_squared_error')\n",
    "\n",
    "modelo.fit(x_train, y_train, epochs=25, batch_size=32)\n",
    "print(\"Modelo entrenado exitosamente\")"
   ]
  },
  {
   "cell_type": "code",
   "execution_count": 5,
   "id": "8b84cb9e",
   "metadata": {},
   "outputs": [],
   "source": [
    "#Datos Test\n",
    "ticker = yf.Ticker('BTC-USD')\n",
    "df_test = ticker.history(start = '2022-01-01', end = '2025-10-07')\n",
    "\n",
    "\n",
    "\n",
    "actual_prices = df_test[\"Close\"].values\n",
    "\n",
    "total_dataset = pd.concat((df['Close'],df_test['Close']),axis=0)\n",
    "modelo_inputs = total_dataset[len(total_dataset)-len(df_test)-prediction_days:].values\n",
    "modelo_inputs = scaler.transform(modelo_inputs.reshape(-1,1))\n"
   ]
  },
  {
   "cell_type": "code",
   "execution_count": 35,
   "id": "b4ca0576",
   "metadata": {},
   "outputs": [
    {
     "name": "stdout",
     "output_type": "stream",
     "text": [
      "\u001b[1m43/43\u001b[0m \u001b[32m━━━━━━━━━━━━━━━━━━━━\u001b[0m\u001b[37m\u001b[0m \u001b[1m2s\u001b[0m 34ms/step\n",
      "[118887.305]\n",
      "[[112969.89 ]\n",
      " [112345.34 ]\n",
      " [112088.805]\n",
      " [112622.445]\n",
      " [113545.51 ]\n",
      " [113820.96 ]\n",
      " [115374.73 ]\n",
      " [116895.43 ]\n",
      " [118118.67 ]\n",
      " [118887.305]]\n"
     ]
    }
   ],
   "source": [
    "#Test\n",
    "\n",
    "x_test = []\n",
    "\n",
    "for x in range(prediction_days,len(modelo_inputs)):\n",
    "  x_test.append(modelo_inputs[x-prediction_days:x,0])\n",
    "\n",
    "x_test = np.array(x_test)\n",
    "x_test = np.reshape(x_test,(x_test.shape[0],x_test.shape[1],1))\n",
    "\n",
    "predicted_prices = modelo.predict(x_test)\n",
    "predicted_prices = scaler.inverse_transform(predicted_prices)\n",
    "print(predicted_prices[-1])\n",
    "print(predicted_prices[-10:])\n"
   ]
  },
  {
   "cell_type": "code",
   "execution_count": 16,
   "id": "1691ce8b",
   "metadata": {},
   "outputs": [
    {
     "data": {
      "image/png": "[encoded data removed]",
      "text/plain": [
       "<Figure size 640x480 with 1 Axes>"
      ]
     },
     "metadata": {},
     "output_type": "display_data"
    }
   ],
   "source": [
    "plt.plot(actual_prices,color=\"black\",label=\"BTC real prices\")\n",
    "plt.plot(predicted_prices,color=\"blue\",label=\"BTC predicted prices\")\n",
    "plt.legend()\n",
    "plt.show()"
   ]
  },
  {
   "cell_type": "code",
   "execution_count": 17,
   "id": "ca7a67d1",
   "metadata": {},
   "outputs": [
    {
     "name": "stdout",
     "output_type": "stream",
     "text": [
      "211.72177596978705 %\n"
     ]
    }
   ],
   "source": [
    "rentability = 1\n",
    "for i in range(1,len(actual_prices)):\n",
    "  if predicted_prices[i] > actual_prices[i-1]:\n",
    "    rentability*= actual_prices[i]/actual_prices[i-1]\n",
    "\n",
    "print((rentability-1)*100,\"%\")"
   ]
  },
  {
   "cell_type": "code",
   "execution_count": 18,
   "id": "623985c3",
   "metadata": {},
   "outputs": [
    {
     "name": "stdout",
     "output_type": "stream",
     "text": [
      "Precisión direccional: 49.993236537128226 %\n"
     ]
    }
   ],
   "source": [
    "directional_accuracy = np.mean(\n",
    "    (np.sign(predicted_prices[1:] - predicted_prices[:-1]) ==\n",
    "     np.sign(actual_prices[1:] - actual_prices[:-1]))\n",
    ")\n",
    "print(\"Precisión direccional:\", directional_accuracy*100, \"%\")"
   ]
  },
  {
   "cell_type": "code",
   "execution_count": 19,
   "id": "3c9b6400",
   "metadata": {},
   "outputs": [
    {
     "name": "stdout",
     "output_type": "stream",
     "text": [
      "0.08278103210226373 % por día\n"
     ]
    }
   ],
   "source": [
    "daily_return = (rentability ** (1/len(actual_prices))) - 1\n",
    "print(daily_return * 100, \"% por día\")"
   ]
  },
  {
   "cell_type": "code",
   "execution_count": 48,
   "id": "0e6c7dcc",
   "metadata": {},
   "outputs": [
    {
     "name": "stdout",
     "output_type": "stream",
     "text": [
      "\n",
      "PREDICCIONES PARA LOS PRÓXIMOS 10 DÍAS:\n",
      "============================================================\n",
      "2022-01-01: $49,455.07\n",
      "2022-01-02: $50,382.79\n",
      "2022-01-03: $51,482.53\n",
      "2022-01-04: $52,494.12\n",
      "2022-01-05: $53,468.43\n",
      "2022-01-06: $54,433.84\n",
      "2022-01-07: $55,394.00\n",
      "2022-01-08: $56,349.55\n",
      "2022-01-09: $57,301.23\n",
      "2022-01-10: $58,249.18\n",
      "============================================================\n"
     ]
    }
   ],
   "source": [
    "dias_futuros = 10\n",
    "\n",
    "ultimo_bloque = df['Close'].values[-prediction_days:]\n",
    "ultimo_bloque_escalado = scaler.transform(ultimo_bloque.reshape(-1, 1))\n",
    "\n",
    "predicciones_futuras = []\n",
    "\n",
    "bloque_actual = ultimo_bloque_escalado.copy()\n",
    "\n",
    "for i in range(dias_futuros):\n",
    "    X_futuro = bloque_actual.reshape(1, prediction_days, 1)\n",
    "    prediccion_escalada = modelo.predict(X_futuro, verbose=0)\n",
    "    predicciones_futuras.append(prediccion_escalada[0, 0])\n",
    "    bloque_actual = np.append(bloque_actual[1:], prediccion_escalada)\n",
    "\n",
    "predicciones_futuras = np.array(predicciones_futuras).reshape(-1, 1)\n",
    "predicciones_futuras = scaler.inverse_transform(predicciones_futuras)\n",
    "\n",
    "from datetime import timedelta\n",
    "ultima_fecha = df.index[-1]\n",
    "fechas_futuras = [ultima_fecha + timedelta(days=i+1) for i in range(dias_futuros)]\n",
    "\n",
    "print(\"\\nPREDICCIONES PARA LOS PRÓXIMOS\", dias_futuros, \"DÍAS:\")\n",
    "print(\"=\"*60)\n",
    "for fecha, precio in zip(fechas_futuras, predicciones_futuras):\n",
    "    print(f\"{fecha.strftime('%Y-%m-%d')}: ${precio[0]:,.2f}\")\n",
    "print(\"=\"*60)"
   ]
  },
  {
   "cell_type": "code",
   "execution_count": null,
   "id": "086f51a6",
   "metadata": {},
   "outputs": [
    {
     "name": "stderr",
     "output_type": "stream",
     "text": [
      "WARNING:absl:You are saving your model as an HDF5 file via `model.save()` or `keras.saving.save_model(model)`. This file format is considered legacy. We recommend using instead the native Keras format, e.g. `model.save('my_model.keras')` or `keras.saving.save_model(model, 'my_model.keras')`. \n"
     ]
    }
   ],
   "source": [
    "#Guardar el modelo\n",
    "modelo.save('Modelo_V1.h5')\n",
    "\n",
    "modelo.save('modelo_v1_tf.keras')"
   ]
  },
  {
   "cell_type": "code",
   "execution_count": 47,
   "id": "5e1d9ff7",
   "metadata": {},
   "outputs": [
    {
     "name": "stderr",
     "output_type": "stream",
     "text": [
      "c:\\Users\\jeron\\AppData\\Local\\Programs\\Python\\Python310\\lib\\site-packages\\keras\\src\\saving\\saving_lib.py:797: UserWarning: Skipping variable loading for optimizer 'rmsprop', because it has 13 variables whereas the saved optimizer has 24 variables. \n",
      "  saveable.load_own_variables(weights_store.get(inner_path))\n",
      "WARNING:absl:Compiled the loaded model, but the compiled metrics have yet to be built. `model.compile_metrics` will be empty until you train or evaluate the model.\n"
     ]
    }
   ],
   "source": [
    "#Cargar el modelo\n",
    "from tensorflow import keras\n",
    "\n",
    "\n",
    "modelo_a = keras.models.load_model('modelo_v1_tf.keras')\n",
    "model_b = keras.models.load_model('Modelo_V1.h5')\n"
   ]
  }
 ],
 "metadata": {
  "kernelspec": {
   "display_name": "Python 3",
   "language": "python",
   "name": "python3"
  },
  "language_info": {
   "codemirror_mode": {
    "name": "ipython",
    "version": 3
   },
   "file_extension": ".py",
   "mimetype": "text/x-python",
   "name": "python",
   "nbconvert_exporter": "python",
   "pygments_lexer": "ipython3",
   "version": "3.10.6"
  }
 },
 "nbformat": 4,
 "nbformat_minor": 5
}
