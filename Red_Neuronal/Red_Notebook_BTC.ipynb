{
 "cells": [
  {
   "cell_type": "code",
   "execution_count": 37,
   "id": "344f02af",
   "metadata": {},
   "outputs": [],
   "source": [
    "import numpy as np\n",
    "import matplotlib.pyplot as plt\n",
    "import pandas as pd\n",
    "\n",
    "import yfinance as yf\n",
    "\n",
    "from sklearn.preprocessing import MinMaxScaler\n",
    "from tensorflow.keras.models import Sequential\n",
    "from tensorflow.keras.layers import Dense,Dropout,GRU\n"
   ]
  },
  {
   "cell_type": "code",
   "execution_count": 39,
   "id": "97b18687",
   "metadata": {},
   "outputs": [
    {
     "name": "stderr",
     "output_type": "stream",
     "text": [
      "C:\\Users\\jeron\\AppData\\Local\\Temp\\ipykernel_41004\\1558679595.py:2: FutureWarning: YF.download() has changed argument auto_adjust default to True\n",
      "  df = yf.download(ticker, period=\"max\", interval=\"1d\")\n",
      "[*********************100%***********************]  1 of 1 completed"
     ]
    },
    {
     "name": "stdout",
     "output_type": "stream",
     "text": [
      "<class 'pandas.core.frame.DataFrame'>\n",
      "DatetimeIndex: 4038 entries, 2014-09-17 to 2025-10-07\n",
      "Data columns (total 5 columns):\n",
      " #   Column             Non-Null Count  Dtype  \n",
      "---  ------             --------------  -----  \n",
      " 0   (Close, BTC-USD)   4038 non-null   float64\n",
      " 1   (High, BTC-USD)    4038 non-null   float64\n",
      " 2   (Low, BTC-USD)     4038 non-null   float64\n",
      " 3   (Open, BTC-USD)    4038 non-null   float64\n",
      " 4   (Volume, BTC-USD)  4038 non-null   int64  \n",
      "dtypes: float64(4), int64(1)\n",
      "memory usage: 189.3 KB\n",
      "None\n"
     ]
    },
    {
     "name": "stderr",
     "output_type": "stream",
     "text": [
      "\n"
     ]
    }
   ],
   "source": [
    "\n",
    "ticker = 'BTC-USD'\n",
    "df = yf.download(ticker, period=\"max\", interval=\"1d\")\n",
    "df.to_csv(\"bitcoin_diario.csv\")\n",
    "\n",
    "df\n",
    "\n",
    "print(df.info())\n"
   ]
  },
  {
   "cell_type": "code",
   "execution_count": null,
   "id": "98581899",
   "metadata": {},
   "outputs": [
    {
     "data": {
      "text/plain": [
       "(3786, 252, 1)"
      ]
     },
     "execution_count": 40,
     "metadata": {},
     "output_type": "execute_result"
    }
   ],
   "source": [
    "#Preparar los datos\n",
    "scaler = MinMaxScaler(feature_range=(0,1))\n",
    "scaled_data = scaler.fit_transform(df['Close'].values.reshape(-1,1))\n",
    "\n",
    "prediction_days = 60\n",
    "\n",
    "x_train = []\n",
    "y_train = []\n",
    "\n",
    "for x in range(prediction_days,len(scaled_data)):\n",
    "  x_train.append(scaled_data[x-prediction_days:x,0])\n",
    "  y_train.append(scaled_data[x,0])\n",
    "\n",
    "x_train,y_train = np.array(x_train),np.array(y_train)\n",
    "x_train = np.reshape(x_train,(x_train.shape[0],x_train.shape[1],1))\n",
    "\n",
    "x_train.shape"
   ]
  },
  {
   "cell_type": "code",
   "execution_count": 41,
   "id": "284ef290",
   "metadata": {},
   "outputs": [
    {
     "name": "stdout",
     "output_type": "stream",
     "text": [
      "Comenzando el entrenamiento...\n",
      "Epoch 1/25\n"
     ]
    },
    {
     "name": "stderr",
     "output_type": "stream",
     "text": [
      "c:\\Users\\jeron\\AppData\\Local\\Programs\\Python\\Python310\\lib\\site-packages\\keras\\src\\layers\\rnn\\rnn.py:199: UserWarning: Do not pass an `input_shape`/`input_dim` argument to a layer. When using Sequential models, prefer using an `Input(shape)` object as the first layer in the model instead.\n",
      "  super().__init__(**kwargs)\n"
     ]
    },
    {
     "name": "stdout",
     "output_type": "stream",
     "text": [
      "\u001b[1m119/119\u001b[0m \u001b[32m━━━━━━━━━━━━━━━━━━━━\u001b[0m\u001b[37m\u001b[0m \u001b[1m25s\u001b[0m 188ms/step - loss: 0.0047\n",
      "Epoch 2/25\n",
      "\u001b[1m119/119\u001b[0m \u001b[32m━━━━━━━━━━━━━━━━━━━━\u001b[0m\u001b[37m\u001b[0m \u001b[1m25s\u001b[0m 207ms/step - loss: 0.0011\n",
      "Epoch 3/25\n",
      "\u001b[1m119/119\u001b[0m \u001b[32m━━━━━━━━━━━━━━━━━━━━\u001b[0m\u001b[37m\u001b[0m \u001b[1m20s\u001b[0m 169ms/step - loss: 0.0010   \n",
      "Epoch 4/25\n",
      "\u001b[1m119/119\u001b[0m \u001b[32m━━━━━━━━━━━━━━━━━━━━\u001b[0m\u001b[37m\u001b[0m \u001b[1m19s\u001b[0m 157ms/step - loss: 8.8619e-04\n",
      "Epoch 5/25\n",
      "\u001b[1m119/119\u001b[0m \u001b[32m━━━━━━━━━━━━━━━━━━━━\u001b[0m\u001b[37m\u001b[0m \u001b[1m19s\u001b[0m 156ms/step - loss: 7.6938e-04\n",
      "Epoch 6/25\n",
      "\u001b[1m119/119\u001b[0m \u001b[32m━━━━━━━━━━━━━━━━━━━━\u001b[0m\u001b[37m\u001b[0m \u001b[1m19s\u001b[0m 159ms/step - loss: 7.1214e-04\n",
      "Epoch 7/25\n",
      "\u001b[1m119/119\u001b[0m \u001b[32m━━━━━━━━━━━━━━━━━━━━\u001b[0m\u001b[37m\u001b[0m \u001b[1m20s\u001b[0m 167ms/step - loss: 7.2433e-04\n",
      "Epoch 8/25\n",
      "\u001b[1m119/119\u001b[0m \u001b[32m━━━━━━━━━━━━━━━━━━━━\u001b[0m\u001b[37m\u001b[0m \u001b[1m19s\u001b[0m 158ms/step - loss: 6.5711e-04\n",
      "Epoch 9/25\n",
      "\u001b[1m119/119\u001b[0m \u001b[32m━━━━━━━━━━━━━━━━━━━━\u001b[0m\u001b[37m\u001b[0m \u001b[1m20s\u001b[0m 170ms/step - loss: 7.2986e-04\n",
      "Epoch 10/25\n",
      "\u001b[1m119/119\u001b[0m \u001b[32m━━━━━━━━━━━━━━━━━━━━\u001b[0m\u001b[37m\u001b[0m \u001b[1m20s\u001b[0m 171ms/step - loss: 8.0551e-04\n",
      "Epoch 11/25\n",
      "\u001b[1m119/119\u001b[0m \u001b[32m━━━━━━━━━━━━━━━━━━━━\u001b[0m\u001b[37m\u001b[0m \u001b[1m20s\u001b[0m 170ms/step - loss: 6.7532e-04\n",
      "Epoch 12/25\n",
      "\u001b[1m119/119\u001b[0m \u001b[32m━━━━━━━━━━━━━━━━━━━━\u001b[0m\u001b[37m\u001b[0m \u001b[1m19s\u001b[0m 161ms/step - loss: 6.5858e-04\n",
      "Epoch 13/25\n",
      "\u001b[1m119/119\u001b[0m \u001b[32m━━━━━━━━━━━━━━━━━━━━\u001b[0m\u001b[37m\u001b[0m \u001b[1m18s\u001b[0m 151ms/step - loss: 5.7535e-04\n",
      "Epoch 14/25\n",
      "\u001b[1m119/119\u001b[0m \u001b[32m━━━━━━━━━━━━━━━━━━━━\u001b[0m\u001b[37m\u001b[0m \u001b[1m20s\u001b[0m 165ms/step - loss: 7.2904e-04\n",
      "Epoch 15/25\n",
      "\u001b[1m119/119\u001b[0m \u001b[32m━━━━━━━━━━━━━━━━━━━━\u001b[0m\u001b[37m\u001b[0m \u001b[1m19s\u001b[0m 157ms/step - loss: 6.2278e-04\n",
      "Epoch 16/25\n",
      "\u001b[1m119/119\u001b[0m \u001b[32m━━━━━━━━━━━━━━━━━━━━\u001b[0m\u001b[37m\u001b[0m \u001b[1m19s\u001b[0m 158ms/step - loss: 6.0227e-04\n",
      "Epoch 17/25\n",
      "\u001b[1m119/119\u001b[0m \u001b[32m━━━━━━━━━━━━━━━━━━━━\u001b[0m\u001b[37m\u001b[0m \u001b[1m19s\u001b[0m 159ms/step - loss: 6.5648e-04\n",
      "Epoch 18/25\n",
      "\u001b[1m119/119\u001b[0m \u001b[32m━━━━━━━━━━━━━━━━━━━━\u001b[0m\u001b[37m\u001b[0m \u001b[1m20s\u001b[0m 164ms/step - loss: 6.4977e-04\n",
      "Epoch 19/25\n",
      "\u001b[1m119/119\u001b[0m \u001b[32m━━━━━━━━━━━━━━━━━━━━\u001b[0m\u001b[37m\u001b[0m \u001b[1m20s\u001b[0m 168ms/step - loss: 4.9284e-04\n",
      "Epoch 20/25\n",
      "\u001b[1m119/119\u001b[0m \u001b[32m━━━━━━━━━━━━━━━━━━━━\u001b[0m\u001b[37m\u001b[0m \u001b[1m16s\u001b[0m 135ms/step - loss: 5.5187e-04\n",
      "Epoch 21/25\n",
      "\u001b[1m119/119\u001b[0m \u001b[32m━━━━━━━━━━━━━━━━━━━━\u001b[0m\u001b[37m\u001b[0m \u001b[1m16s\u001b[0m 133ms/step - loss: 6.2247e-04\n",
      "Epoch 22/25\n",
      "\u001b[1m119/119\u001b[0m \u001b[32m━━━━━━━━━━━━━━━━━━━━\u001b[0m\u001b[37m\u001b[0m \u001b[1m16s\u001b[0m 136ms/step - loss: 5.4213e-04\n",
      "Epoch 23/25\n",
      "\u001b[1m119/119\u001b[0m \u001b[32m━━━━━━━━━━━━━━━━━━━━\u001b[0m\u001b[37m\u001b[0m \u001b[1m17s\u001b[0m 139ms/step - loss: 5.8558e-04\n",
      "Epoch 24/25\n",
      "\u001b[1m119/119\u001b[0m \u001b[32m━━━━━━━━━━━━━━━━━━━━\u001b[0m\u001b[37m\u001b[0m \u001b[1m15s\u001b[0m 129ms/step - loss: 5.6091e-04\n",
      "Epoch 25/25\n",
      "\u001b[1m119/119\u001b[0m \u001b[32m━━━━━━━━━━━━━━━━━━━━\u001b[0m\u001b[37m\u001b[0m \u001b[1m15s\u001b[0m 128ms/step - loss: 5.4284e-04\n",
      "Modelo entrenado exitosamente\n"
     ]
    }
   ],
   "source": [
    "#Construir el modelo\n",
    "\n",
    "print('Comenzando el entrenamiento...')\n",
    "\n",
    "modelo = Sequential()\n",
    "\n",
    "#Capa 1\n",
    "modelo.add(GRU(units=50, return_sequences = True, input_shape = (x_train.shape[1],1)))\n",
    "modelo.add(Dropout(0.2))\n",
    "\n",
    "#Capa 2\n",
    "modelo.add(GRU(units=50, return_sequences = True))\n",
    "modelo.add(Dropout(0.2))\n",
    "\n",
    "#Capa 3\n",
    "modelo.add(GRU(units=50))\n",
    "modelo.add(Dropout(0.1))\n",
    "\n",
    "#Capa 4\n",
    "modelo.add(Dense(units = 1))\n",
    "\n",
    "\n",
    "\n",
    "modelo.compile(optimizer='adam', loss='mean_squared_error')\n",
    "\n",
    "modelo.fit(x_train, y_train, epochs=25, batch_size=32)\n",
    "print(\"Modelo entrenado exitosamente\")"
   ]
  },
  {
   "cell_type": "code",
   "execution_count": 42,
   "id": "8b84cb9e",
   "metadata": {},
   "outputs": [
    {
     "name": "stderr",
     "output_type": "stream",
     "text": [
      "C:\\Users\\jeron\\AppData\\Local\\Temp\\ipykernel_41004\\3563527878.py:3: FutureWarning: YF.download() has changed argument auto_adjust default to True\n",
      "  df_test = yf.download(ticker, period=\"max\", interval=\"1d\")\n",
      "[*********************100%***********************]  1 of 1 completed\n"
     ]
    }
   ],
   "source": [
    "#Datos Test\n",
    "ticker = 'BTC-USD'\n",
    "df_test = yf.download(ticker, period=\"max\", interval=\"1d\")\n",
    "df_test.to_csv(\"bitcoin_diario.csv\")\n",
    "\n",
    "\n",
    "actual_prices = df_test[\"Close\"].values\n",
    "\n",
    "total_dataset = pd.concat((df['Close'],df_test['Close']),axis=0)\n",
    "modelo_inputs = total_dataset[len(total_dataset)-len(df_test)-prediction_days:].values\n",
    "modelo_inputs = scaler.transform(modelo_inputs.reshape(-1,1))\n"
   ]
  },
  {
   "cell_type": "code",
   "execution_count": 43,
   "id": "b4ca0576",
   "metadata": {},
   "outputs": [
    {
     "name": "stdout",
     "output_type": "stream",
     "text": [
      "\u001b[1m127/127\u001b[0m \u001b[32m━━━━━━━━━━━━━━━━━━━━\u001b[0m\u001b[37m\u001b[0m \u001b[1m5s\u001b[0m 33ms/step\n"
     ]
    }
   ],
   "source": [
    "#Test\n",
    "\n",
    "x_test = []\n",
    "\n",
    "for x in range(prediction_days,len(modelo_inputs)):\n",
    "  x_test.append(modelo_inputs[x-prediction_days:x,0])\n",
    "\n",
    "x_test = np.array(x_test)\n",
    "x_test = np.reshape(x_test,(x_test.shape[0],x_test.shape[1],1))\n",
    "\n",
    "predicted_prices = modelo.predict(x_test)\n",
    "predicted_prices = scaler.inverse_transform(predicted_prices)"
   ]
  },
  {
   "cell_type": "code",
   "execution_count": 44,
   "id": "1691ce8b",
   "metadata": {},
   "outputs": [
    {
     "data": {
      "image/png": "[encoded data removed]",
      "text/plain": [
       "<Figure size 640x480 with 1 Axes>"
      ]
     },
     "metadata": {},
     "output_type": "display_data"
    }
   ],
   "source": [
    "plt.plot(actual_prices,color=\"black\",label=f\"{ticker} real prices\")\n",
    "plt.plot(predicted_prices,color=\"blue\",label=f\"{ticker} predicted prices\")\n",
    "plt.legend()\n",
    "plt.show()"
   ]
  },
  {
   "cell_type": "code",
   "execution_count": 45,
   "id": "ca7a67d1",
   "metadata": {},
   "outputs": [
    {
     "name": "stdout",
     "output_type": "stream",
     "text": [
      "[29126.90542927] %\n"
     ]
    }
   ],
   "source": [
    "rentability = 1\n",
    "for i in range(1,len(actual_prices)):\n",
    "  if predicted_prices[i] > actual_prices[i-1]:\n",
    "    rentability*= actual_prices[i]/actual_prices[i-1]\n",
    "\n",
    "print((rentability-1)*100,\"%\")"
   ]
  },
  {
   "cell_type": "code",
   "execution_count": 46,
   "id": "623985c3",
   "metadata": {},
   "outputs": [
    {
     "name": "stdout",
     "output_type": "stream",
     "text": [
      "Precisión direccional: 49.21971761208818 %\n"
     ]
    }
   ],
   "source": [
    "directional_accuracy = np.mean(\n",
    "    (np.sign(predicted_prices[1:] - predicted_prices[:-1]) ==\n",
    "     np.sign(actual_prices[1:] - actual_prices[:-1]))\n",
    ")\n",
    "print(\"Precisión direccional:\", directional_accuracy*100, \"%\")"
   ]
  },
  {
   "cell_type": "code",
   "execution_count": 47,
   "id": "3c9b6400",
   "metadata": {},
   "outputs": [
    {
     "name": "stdout",
     "output_type": "stream",
     "text": [
      "[0.14070501] % por día\n"
     ]
    }
   ],
   "source": [
    "daily_return = (rentability ** (1/len(actual_prices))) - 1\n",
    "print(daily_return * 100, \"% por día\")"
   ]
  },
  {
   "cell_type": "code",
   "execution_count": 53,
   "id": "7eac84c2",
   "metadata": {},
   "outputs": [
    {
     "name": "stdout",
     "output_type": "stream",
     "text": [
      "[[124381.43]\n",
      " [125198.58]\n",
      " [126087.93]\n",
      " [126936.87]\n",
      " [127753.94]\n",
      " [128556.55]\n",
      " [129349.83]\n",
      " [130134.18]\n",
      " [130909.85]\n",
      " [131677.53]]\n"
     ]
    }
   ],
   "source": [
    "# Predicicon proximos 10 dias\n",
    "\n",
    "\n",
    "dias_a_predecir = 10\n",
    "window_size = x_train.shape[1]  \n",
    "\n",
    "\n",
    "ultimos_close = df['Close'].values[-window_size:].reshape(-1, 1)\n",
    "\n",
    "\n",
    "ultima_ventana = scaler.transform(ultimos_close)  \n",
    "\n",
    "predicciones_futuras = []\n",
    "\n",
    "#Predicciones siguientes 10 dias\n",
    "for i in range(dias_a_predecir):\n",
    "    x_input = ultima_ventana.reshape(1, window_size, 1)   \n",
    "    pred_esc = modelo.predict(x_input, verbose=0)         \n",
    "    predicciones_futuras.append(pred_esc[0, 0])\n",
    "\n",
    "    \n",
    "    ultima_ventana = np.append(ultima_ventana, pred_esc)[1:].reshape(-1, 1)\n",
    "\n",
    "\n",
    "predicciones_futuras = np.array(predicciones_futuras).reshape(-1, 1)\n",
    "predicciones_futuras_usd = scaler.inverse_transform(predicciones_futuras)\n",
    "\n",
    "print(predicciones_futuras_usd)\n",
    "\n"
   ]
  }
 ],
 "metadata": {
  "kernelspec": {
   "display_name": "Python 3",
   "language": "python",
   "name": "python3"
  },
  "language_info": {
   "codemirror_mode": {
    "name": "ipython",
    "version": 3
   },
   "file_extension": ".py",
   "mimetype": "text/x-python",
   "name": "python",
   "nbconvert_exporter": "python",
   "pygments_lexer": "ipython3",
   "version": "3.10.6"
  }
 },
 "nbformat": 4,
 "nbformat_minor": 5
}
